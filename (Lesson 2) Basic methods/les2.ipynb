{
 "cells": [
  {
   "cell_type": "code",
   "execution_count": 36,
   "metadata": {},
   "outputs": [
    {
     "data": {
      "text/plain": [
       "0         5\n",
       "1         5\n",
       "2         8\n",
       "3         8\n",
       "4         8\n",
       "         ..\n",
       "13575    10\n",
       "13576     8\n",
       "13577     8\n",
       "13578     9\n",
       "13579     9\n",
       "Length: 13580, dtype: int64"
      ]
     },
     "metadata": {},
     "output_type": "display_data"
    },
    {
     "data": {
      "text/plain": [
       "0        25.200000\n",
       "1        15.800000\n",
       "2        18.750000\n",
       "3        15.750000\n",
       "4        17.750000\n",
       "           ...    \n",
       "13575    12.600000\n",
       "13576    16.625000\n",
       "13577    15.750000\n",
       "13578    17.444444\n",
       "13579    12.444444\n",
       "Name: MeanRoomsSquare, Length: 13580, dtype: float64"
      ]
     },
     "metadata": {},
     "output_type": "display_data"
    },
    {
     "data": {
      "text/plain": [
       "0       -0.231707\n",
       "1       -0.327660\n",
       "2        0.056338\n",
       "3        0.145455\n",
       "4        0.083969\n",
       "           ...   \n",
       "13575   -0.676093\n",
       "13576   -0.429185\n",
       "13577   -0.551601\n",
       "13578   -0.693060\n",
       "13579   -0.527426\n",
       "Name: AreaRatio, Length: 13580, dtype: float64"
      ]
     },
     "metadata": {},
     "output_type": "display_data"
    },
    {
     "data": {
      "text/plain": [
       "0        2.190400e+12\n",
       "1        1.071225e+12\n",
       "2        2.146225e+12\n",
       "3        7.225000e+11\n",
       "4        2.560000e+12\n",
       "             ...     \n",
       "13575    1.550025e+12\n",
       "13576    1.062961e+12\n",
       "13577    1.368900e+12\n",
       "13578    6.250000e+12\n",
       "13579    1.651225e+12\n",
       "Name: Price, Length: 13580, dtype: float64"
      ]
     },
     "metadata": {},
     "output_type": "display_data"
    },
    {
     "data": {
      "text/plain": [
       "0    421.976671\n",
       "1      3.810842\n",
       "2     32.796595\n",
       "3      8.539467\n",
       "4     75.377550\n",
       "5     45.761079\n",
       "6      6.253436\n",
       "Name: density, dtype: float64"
      ]
     },
     "metadata": {},
     "output_type": "display_data"
    },
    {
     "name": "stdout",
     "output_type": "stream",
     "text": [
      "84.93\n"
     ]
    }
   ],
   "source": [
    "import pandas as pd\n",
    "\n",
    "data_frame=pd.read_csv('data/melb_data_ps.csv', sep=',')\n",
    "data_copy=data_frame.copy() # скопировал основной файл\n",
    "data_copy=data_copy.drop(['index', 'Coordinates'], axis=1) # удалил два столбца из сновной таблицы\n",
    "# data_copy.drop(['index', 'Coordinates'], axis=1, inplace=True) # альтернативный вариант удаления с резервной таблицы\n",
    "data_copy.head()\n",
    "\n",
    "# математические операции со столбцами\n",
    "\n",
    "total_rooms=data_copy['Rooms']+data_copy['Bathroom']+data_copy['Bedroom'] # создали переменную и внесли в неё сумму всех комнат по каждому объекту\n",
    "display(total_rooms)\n",
    "\n",
    "data_copy['MeanRoomsSquare']=data_copy['BuildingArea']/total_rooms # создали переменную в которой значение - средняя площадь объекта\n",
    "display(data_copy['MeanRoomsSquare'])\n",
    "\n",
    "diff_ratio=data_copy['BuildingArea']-data_copy['Landsize']\n",
    "sum_ratio=data_copy['BuildingArea']+data_copy['Landsize']\n",
    "data_copy['AreaRatio']=diff_ratio/sum_ratio # коэффициент соотношения площади здания (BuildingArea) и площади участка (Landsize)\n",
    "display(data_copy['AreaRatio'])\n",
    "# AreaRatio служит своеобразным указателем соотношения площадей объекта недвижимости. Для пустырей — участков без строений — он будет равен -1, для домов без территории — 1, во всех остальных случаях мы можем увидеть, какая площадь больше — здания или участка\n",
    "\n",
    "# PRACTICE\n",
    "# найти квадрат цены объекта недвижимости за наименьшее время и без ошибки\n",
    "price_square = data_copy['Price'] **2\n",
    "display(price_square)\n",
    "\n",
    "\n",
    "# Напишите функцию delete_columns(df, col=[]), которая удаляет столбцы из DataFrame и возвращает новую таблицу. Если одного из указанных столбцов не существует в таблице, то функция должна возвращать None. Удалите выбранные вами столбцы из таблицы customer_df.\n",
    "# import pandas as pd\n",
    "customer_df = pd.DataFrame({\n",
    "            'number': [0, 1, 2, 3, 4],\n",
    "            'cust_id': [128, 1201, 9832, 4392, 7472],\n",
    "            'cust_age': [13, 21, 19, 21, 60],\n",
    "            'cust_sale': [0, 0, 0.2, 0.15, 0.3],\n",
    "            'cust_year_birth': [2008, 2000, 2002, 2000, 1961],\n",
    "            'cust_order': [1400, 14142, 900, 1240, 8430]\n",
    "        })\n",
    "\n",
    "def delete_columns(df, col=[]): # сама функция, \n",
    "    for cc in col: # условие по адресу к столбцам\n",
    "        if cc not in df.columns: # если адреса нет в таблице\n",
    "            return None # возвращаем None\n",
    "    return df.drop(col ,axis=1) # если всё-таки такой адресат есть и мы его 'кикнули', то возращаем старую таблицу\n",
    "\n",
    "# 2.4 Для каждой страны рассчитайте плотность населения (количество человек на квадратный километр). Затем по полученным данным рассчитайте среднее по плотностям населения в указанных странах\n",
    "countries_df = pd.DataFrame({\n",
    "    'country': ['Англия', 'Канада', 'США', 'Россия', 'Украина', 'Беларусь', 'Казахстан'],\n",
    "    'population': [56.29, 38.05, 322.28, 146.24, 45.5, 9.5, 17.04],   # указано в миллионах, чел\n",
    "    'square': [133396, 9984670, 9826630, 17125191, 603628, 207600, 2724902] # указано в км\n",
    "})\n",
    "\n",
    "countries_df['density']=countries_df['population']/countries_df['square']*1e6 # делим кол-во людей на площадь страны, а так же умножаем на 10 в шестой степени(миллион)\n",
    "display(countries_df['density'])\n",
    "print(round(countries_df['density'].mean(), 2)) # выводим по среднему и округляем до сотых"
   ]
  }
 ],
 "metadata": {
  "kernelspec": {
   "display_name": "Python 3",
   "language": "python",
   "name": "python3"
  },
  "language_info": {
   "codemirror_mode": {
    "name": "ipython",
    "version": 3
   },
   "file_extension": ".py",
   "mimetype": "text/x-python",
   "name": "python",
   "nbconvert_exporter": "python",
   "pygments_lexer": "ipython3",
   "version": "3.11.2"
  },
  "orig_nbformat": 4
 },
 "nbformat": 4,
 "nbformat_minor": 2
}
