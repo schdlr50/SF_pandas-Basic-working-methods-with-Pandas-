{
 "cells": [
  {
   "cell_type": "code",
   "execution_count": 50,
   "metadata": {},
   "outputs": [
    {
     "data": {
      "text/plain": [
       "0       2016-12-03\n",
       "1       2016-02-04\n",
       "2       2017-03-04\n",
       "3       2017-03-04\n",
       "4       2016-06-04\n",
       "           ...    \n",
       "13575   2017-08-26\n",
       "13576   2017-08-26\n",
       "13577   2017-08-26\n",
       "13578   2017-08-26\n",
       "13579   2017-08-26\n",
       "Name: Date, Length: 13580, dtype: datetime64[ns]"
      ]
     },
     "metadata": {},
     "output_type": "display_data"
    },
    {
     "name": "stdout",
     "output_type": "stream",
     "text": [
      "0        2016\n",
      "1        2016\n",
      "2        2017\n",
      "3        2017\n",
      "4        2016\n",
      "         ... \n",
      "13575    2017\n",
      "13576    2017\n",
      "13577    2017\n",
      "13578    2017\n",
      "13579    2017\n",
      "Name: Date, Length: 13580, dtype: int64\n",
      "Min year sold: 2016\n",
      "Max year sold: 2017\n",
      "Mode year sold: 2017\n"
     ]
    },
    {
     "data": {
      "text/plain": [
       "0       337 days\n",
       "1        34 days\n",
       "2       428 days\n",
       "3       428 days\n",
       "4       155 days\n",
       "          ...   \n",
       "13575   603 days\n",
       "13576   603 days\n",
       "13577   603 days\n",
       "13578   603 days\n",
       "13579   603 days\n",
       "Name: Date, Length: 13580, dtype: timedelta64[ns]"
      ]
     },
     "metadata": {},
     "output_type": "display_data"
    },
    {
     "data": {
      "text/plain": [
       "0        337\n",
       "1         34\n",
       "2        428\n",
       "3        428\n",
       "4        155\n",
       "        ... \n",
       "13575    603\n",
       "13576    603\n",
       "13577    603\n",
       "13578    603\n",
       "13579    603\n",
       "Name: Date, Length: 13580, dtype: int64"
      ]
     },
     "metadata": {},
     "output_type": "display_data"
    },
    {
     "data": {
      "text/plain": [
       "0         46\n",
       "1        116\n",
       "2        117\n",
       "3         47\n",
       "4          2\n",
       "        ... \n",
       "13575     36\n",
       "13576     22\n",
       "13577     20\n",
       "13578     97\n",
       "13579     97\n",
       "Name: AgeBuilding, Length: 13580, dtype: int64"
      ]
     },
     "metadata": {},
     "output_type": "display_data"
    },
    {
     "name": "stdout",
     "output_type": "stream",
     "text": [
      "12822\n",
      "1999\n",
      "68.72084805653711\n"
     ]
    }
   ],
   "source": [
    "import pandas as pd\n",
    "\n",
    "melb_data_ps=pd.read_csv('data/melb_data_ps.csv', sep=',')\n",
    "melb_data_ps['Date']=pd.to_datetime(melb_data_ps['Date'], dayfirst=True) # воспользовались фун-ией для преобразования формата даты. теперь день идет первый(с конца), а также изменился тип данных - datetime64\n",
    "display(melb_data_ps['Date'])\n",
    "years_sold=melb_data_ps['Date'].dt.year\n",
    "print(years_sold)\n",
    "print('Min year sold:', years_sold.min()) # минимальное кол-во продаж по году\n",
    "print('Max year sold:', years_sold.max()) # максимальное кол-во продаж по году\n",
    "print('Mode year sold:', years_sold.mode()[0]) # модальное кол-во продаж по году. Так как модальных значений в столбце может быть несколько, метод mode() возвращает объект Series, даже если мода в данных только одна. Чтобы сохранить стилистику вывода информации о годе продажи и выводить только число, а не Series, мы обращаемся к результату работы метода mode() по индексу 0.\n",
    "melb_data_ps['MonthSale'] = melb_data_ps['Date'].dt.month # попробуем понять, на какие месяцы приходится пик продаж объектов недвижимости\n",
    "melb_data_ps['MonthSale'].value_counts(normalize=True) # найдём относительную частоту продаж для каждого месяца от общего количества продаж с параметром normalize (вывод в долях)\n",
    "\n",
    "delta_days=melb_data_ps['Date']-pd.to_datetime('2016.01.01') # находим разницу между датой продажи и заявленной датой, для статистики сколько времени требуется для продажи\n",
    "display(delta_days) # ВАЖНО: обрати внимание на тип данных - timedelta!!!\n",
    "display(delta_days.dt.days) # воспользовался атрибутом dt для того чтобы вернуть целые значения дней и тип данных стал - int64 !!!\n",
    "\n",
    "# создадим признак возраста объекта недвижимости в годах на момент продажи:\n",
    "melb_data_ps['AgeBuilding']=melb_data_ps['Date'].dt.year - melb_data_ps['YearBuilt']\n",
    "display(melb_data_ps['AgeBuilding'])\n",
    "\n",
    "melb_data_ps=melb_data_ps.drop('YearBuilt', axis=1) # удалил столбец дату постройки здания, так как возвраст здания более наглядный\n",
    "\n",
    "# Practice\n",
    "# Найдите, сколько объектов недвижимости было продано в выходные (суббота и воскресенье), результат занесите в переменную weekend_count\n",
    "melb_data_ps['weekdaysale']=melb_data_ps['Date'].dt.dayofweek # я обосрался - чтбы добавить новый признак в таблицу нужно его ТАМ ЖЕ и создавать!!!!(это до знака равно!)\n",
    "weekend_count=melb_data_ps[(melb_data_ps['weekdaysale'] == 5) | (melb_data_ps['weekdaysale'] == 6)].shape[0] # я снова обосрался - до общей скобки идет ОСНОВНОЙ массив, в скобках массив и значения по новому признаку и после скобок функция shape - размеры массива, его форма !!!\n",
    "print(weekend_count)\n",
    "\n",
    "# Вам представлены данные (в формате csv) об отчётах очевидцев НЛО в США за период с 1930 по 2020 год.\n",
    "# Прочитайте данные, сделайте преобразование времени к формату datetime и выполните задания ниже.\n",
    "# В каком году отмечается наибольшее количество случаев наблюдения НЛО в США?\n",
    "\n",
    "nlo_data=pd.read_csv('https://raw.githubusercontent.com/justmarkham/pandas-videos/master/data/ufo.csv', sep=',') # подрузил базу с гитхаба\n",
    "nlo_data['Time']=pd.to_datetime(nlo_data['Time'], dayfirst=True) # признак Time перевел в формат datatime\n",
    "most_year=nlo_data['Time'].dt.year # обозначил переменную, которую буду абузить, признак Time вернул по году\n",
    "print(most_year.mode()[0]) # вывел самый урожайный год по фиксации сообщений в пиндосии по НЛО\n",
    "\n",
    "# Найдите средний интервал времени (в днях) между двумя последовательными случаями наблюдения НЛО в штате Невада (NV)\n",
    "nlo_data['Date']=nlo_data['Time'].dt.date # добавил столбец Date на основе столбца Time, но в формате date\n",
    "print(nlo_data[nlo_data['State'] == 'NV']['Date'].diff().dt.days.mean()) # вывел по штату невада через функцию diff среднюю разницу между значениями(днями)"
   ]
  }
 ],
 "metadata": {
  "kernelspec": {
   "display_name": "Python 3",
   "language": "python",
   "name": "python3"
  },
  "language_info": {
   "codemirror_mode": {
    "name": "ipython",
    "version": 3
   },
   "file_extension": ".py",
   "mimetype": "text/x-python",
   "name": "python",
   "nbconvert_exporter": "python",
   "pygments_lexer": "ipython3",
   "version": "3.11.2"
  },
  "orig_nbformat": 4
 },
 "nbformat": 4,
 "nbformat_minor": 2
}
