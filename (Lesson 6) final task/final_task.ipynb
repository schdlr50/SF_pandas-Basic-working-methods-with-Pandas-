{
 "cells": [
  {
   "cell_type": "code",
   "execution_count": 3,
   "metadata": {},
   "outputs": [
    {
     "name": "stdout",
     "output_type": "stream",
     "text": [
      "<class 'pandas.core.frame.DataFrame'>\n",
      "RangeIndex: 300000 entries, 0 to 299999\n",
      "Data columns (total 14 columns):\n",
      " #   Column                   Non-Null Count   Dtype  \n",
      "---  ------                   --------------   -----  \n",
      " 0   starttime                300000 non-null  object \n",
      " 1   stoptime                 300000 non-null  object \n",
      " 2   start station id         299831 non-null  float64\n",
      " 3   start station name       299831 non-null  object \n",
      " 4   start station latitude   300000 non-null  float64\n",
      " 5   start station longitude  300000 non-null  float64\n",
      " 6   end station id           299831 non-null  float64\n",
      " 7   end station name         299831 non-null  object \n",
      " 8   end station latitude     300000 non-null  float64\n",
      " 9   end station longitude    300000 non-null  float64\n",
      " 10  bikeid                   300000 non-null  int64  \n",
      " 11  usertype                 300000 non-null  object \n",
      " 12  birth year               300000 non-null  int64  \n",
      " 13  gender                   300000 non-null  int64  \n",
      "dtypes: float64(6), int64(3), object(5)\n",
      "memory usage: 32.0+ MB\n"
     ]
    },
    {
     "data": {
      "text/plain": [
       "299831"
      ]
     },
     "metadata": {},
     "output_type": "display_data"
    }
   ],
   "source": [
    "import pandas as pd\n",
    "bike_df=pd.read_csv('data/citibike-tripdata.csv', sep=',')\n",
    "\n",
    "# инфо по признакам в датасете (кол-во строк - 1.7 миллионов)\n",
    "# starttime — время начала поездки (дата, время);\n",
    "# stoptime — время окончания поездки (дата, время);\n",
    "# start station id — идентификатор стартовой стоянки;\n",
    "# start station name — название стартовой стоянки;\n",
    "# start station latitude, start station longitude — географическая широта и долгота стартовой стоянки;\n",
    "# end station id — идентификатор конечной стоянки;\n",
    "# end station name — название конечной стоянки;\n",
    "# end station latitude, end station longitude — географическая широта и долгота конечной стоянки;\n",
    "# bikeid — идентификатор велосипеда;\n",
    "# usertype — тип пользователя (Customer — клиент с подпиской на 24 часа или на три дня, Subscriber — подписчик с годовой арендой велосипеда);\n",
    "# birth year — год рождения клиента;\n",
    "# gender — пол клиента (0 — неизвестный, 1 — мужчина, 2 — женщина)\n",
    "\n",
    "# задание 1. Сколько пропусков в столбце start station id\n",
    "bike_df.info()\n",
    "display(bike_df['start station id'].count())\n",
    "\n",
    "# задание 2. Какой тип данных имеют столбцы starttime и stoptime\n",
    "# через инфо - object\n",
    "\n",
    "# Задание 3. Найдите идентификатор самой популярной стартовой стоянки. Запишите идентификатор в виде целого числа.\n",
    "\n",
    "# Задание 4. Велосипед с каким идентификатором является самым популярным?\n",
    "\n",
    "# Задание 5. Какой тип клиентов (столбец usertype) является преобладающим — Subscriber или Customer? \n",
    "# В качестве ответа запишите долю клиентов преобладающего типа среди общего количества клиентов. Ответ округлите до сотых\n",
    "\n",
    "# Задание 6. Кто больше занимается велоспортом — мужчины или женщины? В ответ запишите число поездок для той группы, у которой их больше.\n",
    "\n",
    "# Задание 7. "
   ]
  }
 ],
 "metadata": {
  "kernelspec": {
   "display_name": "Python 3",
   "language": "python",
   "name": "python3"
  },
  "language_info": {
   "codemirror_mode": {
    "name": "ipython",
    "version": 3
   },
   "file_extension": ".py",
   "mimetype": "text/x-python",
   "name": "python",
   "nbconvert_exporter": "python",
   "pygments_lexer": "ipython3",
   "version": "3.11.2"
  },
  "orig_nbformat": 4
 },
 "nbformat": 4,
 "nbformat_minor": 2
}
