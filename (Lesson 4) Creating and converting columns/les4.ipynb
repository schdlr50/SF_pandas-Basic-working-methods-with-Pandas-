{
 "cells": [
  {
   "cell_type": "code",
   "execution_count": 1,
   "metadata": {},
   "outputs": [
    {
     "name": "stdout",
     "output_type": "stream",
     "text": [
      "13378\n",
      "2/119 Railway St N\n",
      "39 Hardy St\n",
      "81 Parsons St\n"
     ]
    },
    {
     "data": {
      "text/plain": [
       "0        St\n",
       "1        St\n",
       "2        St\n",
       "3        La\n",
       "4        St\n",
       "         ..\n",
       "13575    Cr\n",
       "13576    Dr\n",
       "13577    St\n",
       "13578    St\n",
       "13579    St\n",
       "Name: Address, Length: 13580, dtype: object"
      ]
     },
     "metadata": {},
     "output_type": "display_data"
    },
    {
     "name": "stdout",
     "output_type": "stream",
     "text": [
      "56\n",
      "St           8012\n",
      "Rd           2825\n",
      "Ct            612\n",
      "Dr            447\n",
      "Av            321\n",
      "Gr            311\n",
      "Pde           211\n",
      "Pl            169\n",
      "Cr            152\n",
      "Cl            100\n",
      "La             67\n",
      "Bvd            53\n",
      "Tce            47\n",
      "Wy             40\n",
      "Avenue         40\n",
      "Cct            25\n",
      "Hwy            24\n",
      "Parade         15\n",
      "Boulevard      13\n",
      "Sq             11\n",
      "Crescent        9\n",
      "Cir             7\n",
      "Strand          7\n",
      "Esplanade       6\n",
      "Grove           5\n",
      "Gdns            4\n",
      "Grn             4\n",
      "Fairway         4\n",
      "Mews            4\n",
      "Crossway        3\n",
      "Righi           3\n",
      "Victoria        2\n",
      "Ridge           2\n",
      "Crofts          2\n",
      "Esp             2\n",
      "Glade           1\n",
      "Gra             1\n",
      "Ave             1\n",
      "Woodland        1\n",
      "Outlook         1\n",
      "Hts             1\n",
      "Highway         1\n",
      "Athol           1\n",
      "Summit          1\n",
      "Grand           1\n",
      "Res             1\n",
      "Nook            1\n",
      "Eyrie           1\n",
      "Dell            1\n",
      "East            1\n",
      "Loop            1\n",
      "Grange          1\n",
      "Terrace         1\n",
      "Cove            1\n",
      "Qy              1\n",
      "Corso           1\n",
      "Name: Address, dtype: int64\n",
      "Index(['St', 'Rd', 'Ct', 'Dr', 'Av', 'Gr', 'Pde', 'Pl', 'Cr', 'Cl'], dtype='object')\n"
     ]
    },
    {
     "data": {
      "text/plain": [
       "0           St\n",
       "1           St\n",
       "2           St\n",
       "3        other\n",
       "4           St\n",
       "         ...  \n",
       "13575       Cr\n",
       "13576       Dr\n",
       "13577       St\n",
       "13578       St\n",
       "13579       St\n",
       "Name: StreetType, Length: 13580, dtype: object"
      ]
     },
     "metadata": {},
     "output_type": "display_data"
    },
    {
     "name": "stdout",
     "output_type": "stream",
     "text": [
      "11\n"
     ]
    },
    {
     "data": {
      "text/plain": [
       "0        5\n",
       "1        3\n",
       "2        5\n",
       "3        5\n",
       "4        5\n",
       "        ..\n",
       "13575    5\n",
       "13576    5\n",
       "13577    5\n",
       "13578    5\n",
       "13579    5\n",
       "Name: weekdaysale, Length: 13580, dtype: int64"
      ]
     },
     "metadata": {},
     "output_type": "display_data"
    },
    {
     "name": "stdout",
     "output_type": "stream",
     "text": [
      "1081198.64\n"
     ]
    },
    {
     "data": {
      "text/plain": [
       "0          Biggin\n",
       "1          Biggin\n",
       "2          Biggin\n",
       "3          Biggin\n",
       "4          Nelson\n",
       "           ...   \n",
       "13575       Barry\n",
       "13576    Williams\n",
       "13577       Raine\n",
       "13578     Sweeney\n",
       "13579     Village\n",
       "Name: SellerG, Length: 13580, dtype: object"
      ]
     },
     "metadata": {},
     "output_type": "display_data"
    },
    {
     "name": "stdout",
     "output_type": "stream",
     "text": [
      "1.3\n"
     ]
    }
   ],
   "source": [
    "import pandas as pd\n",
    "\n",
    "melb_data_ps=pd.read_csv('data/melb_data_ps.csv', sep=',')\n",
    "print(melb_data_ps['Address'].nunique()) # этот метод отображает кол-во НЕ уникальных элементов в столбце\n",
    "# 13378 - это кол-во неуник элементов. Они мешают правильному анализу, даже вредят, но чтобы правильно их убрать, необходимо разобраться что они из себя представляют:\n",
    "print(melb_data_ps['Address'].loc[177])\n",
    "print(melb_data_ps['Address'].loc[5680])\n",
    "print(melb_data_ps['Address'].loc[10522])\n",
    "# из этого понимаем что адресс строиться слудующим образом. Сначала дом, корпус, название улицы и далее подтип улицы, а так же географическая отметка, которая нам портит всю картину\n",
    "\n",
    "# На вход данной функции поступает строка с адресом.\n",
    "def get_street_type(address): # создали фун-ю чтобы удалить георграфические отметки\n",
    "# Создаём список географических пометок exclude_list.\n",
    "    exclude_list = ['N', 'S', 'W', 'E'] # создали список включающий в себя метки, которые хотим убрать\n",
    "# Метод split() разбивает строку на слова по пробелу.\n",
    "# В результате получаем список слов в строке и заносим его в переменную address_list.\n",
    "    address_list = address.split(' ')\n",
    "# Обрезаем список, оставляя в нём только последний элемент,\n",
    "# потенциальный подтип улицы, и заносим в переменную street_type.\n",
    "    street_type = address_list[-1]\n",
    "# Делаем проверку на то, что полученный подтип является географической пометкой.\n",
    "# Для этого проверяем его на наличие в списке exclude_list.\n",
    "    if street_type in exclude_list: # проверяем если элемент не соответ-ет географ-кой метке, то \n",
    "# Если переменная street_type является географической пометкой,\n",
    "# переопределяем её на второй элемент с конца списка address_list.\n",
    "        street_type = address_list[-2] # если есть географическая метка, то возвращаем второй элемент с конца \n",
    "# Возвращаем переменную street_type, в которой хранится подтип улицы.\n",
    "    return street_type #если нет географической метки, то берем последний элемент с конца\n",
    "\n",
    "# теперь прогоняем через фун-ю наш столбец с адресами:\n",
    "street_types=melb_data_ps['Address'].apply(get_street_type) #обрати внимание, объявленная переменная не одинаковая как в предыдущей фун-ии!\n",
    "display(street_types) # в итоге появился объект Series, в котором элемент это подтип улицы и все\n",
    "\n",
    "# !!! ВАЖНО: функция была написана только для одного элемента, а метод apply ко всему столбцу !!!\n",
    "print(street_types.nunique()) # теперь видим что уникальных значений осталось 56\n",
    "\n",
    "# теперь посмотрим на разбивку(частота появления каждого из уникальных значений)\n",
    "print(street_types.value_counts())\n",
    "\n",
    "#продолжаем улучшать результат по уникальным элементам:\n",
    "popular_street_types=street_types.value_counts().nlargest(10).index # сделали выборку по 10ти самым популярным элементам в результате который записан в value_counts(от самого популярного к наименее популярному)\n",
    "print(popular_street_types)\n",
    "# Теперь, когда у нас есть список наиболее популярных подтипов улиц, введём lambda-функцию, которая будет проверять, есть ли строка x в этом перечне, и, если это так, \n",
    "# lambda-функция будет возвращать x, в противном случае она будет возвращать строку 'other'. \n",
    "# Наконец, применим такую функцию к Series street_types, полученной ранее, а результат определим в новый столбец таблицы StreetType:\n",
    "melb_data_ps['StreetType']=street_types.apply(lambda x: x if x in popular_street_types else 'other')\n",
    "display(melb_data_ps['StreetType'])\n",
    "# ещё раз глянем на кол-во уникальных элементов в таблице:\n",
    "print(melb_data_ps['StreetType'].nunique()) # 11\n",
    "# теперь нам признак Address не нужен, так как, если конкретное местоположение объекта всё же и влияет на его стоимость, то оно определяется столбцами Longitude и Lattitude\n",
    "melb_data_ps=melb_data_ps.drop('Address', axis=1) # дропнем столбец Address\n",
    "\n",
    "# Practice. из задания 3.3 возвращаем weekdaysale + приводим к daytime столбец Time\n",
    "melb_data_ps['Date']=pd.to_datetime(melb_data_ps['Date'], dayfirst=True)\n",
    "melb_data_ps['weekdaysale']=melb_data_ps['Date'].dt.dayofweek\n",
    "display(melb_data_ps['weekdaysale'])\n",
    "\n",
    "# Напишите функцию get_weekend(weekday), которая принимает на вход элемент столбца WeekdaySale и возвращает 1, если день является выходным, и 0 — в противном случае\n",
    "def get_weekend(weekday):\n",
    "    if weekday==5 or weekday==6:\n",
    "        return 1\n",
    "    else:\n",
    "        return 0\n",
    "melb_data_ps['Weekend']=melb_data_ps['weekdaysale'].apply(get_weekend) # создал признак weekend в основном сете на основе столбца weekdaysale, прогнанного через фун-ю выходного дня \n",
    "print(round(melb_data_ps[melb_data_ps['Weekend']==1]['Price'].mean(), 2))\n",
    "\n",
    "# Преобразуйте столбец SellerG с наименованиями риелторских компаний в таблице melb_df следующим образом:\n",
    "# оставьте в столбце только 49 самых популярных компаний, а остальные обозначьте как 'other'.\n",
    "# Найдите, во сколько раз минимальная цена объектов недвижимости, проданных компанией 'Nelson', больше минимальной цены объектов, \n",
    "# проданных компаниями, обозначенными как 'other'. Ответ округлите до десятых.\n",
    "\n",
    "uniccomp=melb_data_ps['SellerG'].value_counts().nlargest(49).index # сделал выборку по 49 самым популярным компаниям\n",
    "melb_data_ps['SellerG']=melb_data_ps['SellerG'].apply(lambda x: x if x in uniccomp else \"other\") # преобразил столбец на основе 49 самых популярных компаний, остальные назвал \"other\"\n",
    "display(melb_data_ps['SellerG']) # its work ) просто проверил\n",
    "priceforother=melb_data_ps[melb_data_ps['SellerG']=='other']['Price'].min() # вывели мин по other\n",
    "priceforNelson=melb_data_ps[melb_data_ps['SellerG']=='Nelson']['Price'].min() # вывели по Nelson\n",
    "print(round((priceforNelson/priceforother), 1)) # ответ 1.3\n",
    "\n",
    "# задание в платформе SF\n",
    "# Представьте, что вы занимаетесь подготовкой данных о вакансиях с платформы hh.ru. В вашем распоряжении имеется таблица, в которой с помощью парсинга собраны резюме кандидатов.\n",
    "# В этой таблице есть текстовый столбец «Опыт работы». Пример такого столбца представлен ниже в виде объекта Series. \n",
    "# Структура текста в столбце фиксирована и не может измениться.\n",
    "# Напишите функцию get_experience(arg), аргументом которой является строка столбца с опытом работы. Функция должна возвращать опыт работы в месяцах. \n",
    "# Не забудьте привести результат к целому числу.\n",
    "# Примечание. Обратите внимание, что опыт работы может выражаться только в годах или только в месяцах. Учтите это при построении своей функции.\n",
    "\n",
    "import pandas as pd\n",
    "\n",
    "def get_experience(arg):\n",
    "    month_key_words = ['месяц', 'месяцев', 'месяца'] # задали переменную со списком месяц\n",
    "    year_key_words = ['год', 'лет', 'года'] # задали переменную со списком год\n",
    "    args_splited = arg.split(' ') # задали переменную которая делит аргументы через пробелы\n",
    "    month = 0 # обозначили месяц\n",
    "    year = 0 # обозначили год\n",
    "    for i in range(len(args_splited)): # для каждого i в строчке/списке делим согласно нашей переменной \n",
    "        if args_splited[i] in month_key_words: # если в строчке есть элемент, похожий на те, которые есть в списке месяц то\n",
    "            month = args_splited[i-1] # месяц теперь равен элементу, который идет как предыдуший от этого слова\n",
    "        if args_splited[i] in year_key_words: # если в строчке етсь элемент, похожий на те, которые есть в списке год то\n",
    "            year = args_splited[i-1] # год теперь равен элементу, который идет как предыдуший от этого слова\n",
    "    return int(year)*12 + int(month) # возвращаем в месяцах опыт работы"
   ]
  }
 ],
 "metadata": {
  "kernelspec": {
   "display_name": "Python 3",
   "language": "python",
   "name": "python3"
  },
  "language_info": {
   "codemirror_mode": {
    "name": "ipython",
    "version": 3
   },
   "file_extension": ".py",
   "mimetype": "text/x-python",
   "name": "python",
   "nbconvert_exporter": "python",
   "pygments_lexer": "ipython3",
   "version": "3.11.2"
  },
  "orig_nbformat": 4
 },
 "nbformat": 4,
 "nbformat_minor": 2
}
